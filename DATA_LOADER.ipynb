{
 "cells": [
  {
   "cell_type": "code",
   "execution_count": 1,
   "id": "ddcfb518",
   "metadata": {},
   "outputs": [],
   "source": [
    "import pandas as pd \n",
    "import os \n",
    "import matplotlib.pyplot as plt\n",
    "\n",
    "pd.options.display.max_rows = 500"
   ]
  },
  {
   "cell_type": "code",
   "execution_count": 2,
   "id": "d958d1b0",
   "metadata": {},
   "outputs": [],
   "source": [
    "path = 'C:/Users/desco/Documents/44 MINING_CONSULTING/2 CARGADOR_KOMATSU_WE2350/LSMW/ANALISIS_ANUAL ESTIMATE'\n",
    "filename = 'DATA_IH06_IK07_IK17_LD00.XLSX'\n",
    "\n",
    "fullpath = os.path.join(path, filename)\n",
    "\n",
    "df = pd.read_excel(fullpath, sheet_name='DF')"
   ]
  },
  {
   "cell_type": "code",
   "execution_count": 3,
   "id": "278942b4",
   "metadata": {},
   "outputs": [],
   "source": [
    "df = df[['Functional Location','Description ', 'Measuring point', 'Annual estimate','Counter reading']]"
   ]
  },
  {
   "cell_type": "code",
   "execution_count": 4,
   "id": "f50f08b5",
   "metadata": {},
   "outputs": [
    {
     "data": {
      "text/html": [
       "<div>\n",
       "<style scoped>\n",
       "    .dataframe tbody tr th:only-of-type {\n",
       "        vertical-align: middle;\n",
       "    }\n",
       "\n",
       "    .dataframe tbody tr th {\n",
       "        vertical-align: top;\n",
       "    }\n",
       "\n",
       "    .dataframe thead th {\n",
       "        text-align: right;\n",
       "    }\n",
       "</style>\n",
       "<table border=\"1\" class=\"dataframe\">\n",
       "  <thead>\n",
       "    <tr style=\"text-align: right;\">\n",
       "      <th></th>\n",
       "      <th>Functional Location</th>\n",
       "      <th>Description</th>\n",
       "      <th>Measuring point</th>\n",
       "      <th>Annual estimate</th>\n",
       "      <th>Counter reading</th>\n",
       "    </tr>\n",
       "  </thead>\n",
       "  <tbody>\n",
       "    <tr>\n",
       "      <th>0</th>\n",
       "      <td>2042.12.31.01-LD001</td>\n",
       "      <td>Loader Wheeled Surface CGD01</td>\n",
       "      <td>NMP</td>\n",
       "      <td>NMP</td>\n",
       "      <td>0</td>\n",
       "    </tr>\n",
       "    <tr>\n",
       "      <th>1</th>\n",
       "      <td>2042.12.31.01-LD001-DRIV</td>\n",
       "      <td>Drive</td>\n",
       "      <td>NMP</td>\n",
       "      <td>NMP</td>\n",
       "      <td>0</td>\n",
       "    </tr>\n",
       "    <tr>\n",
       "      <th>2</th>\n",
       "      <td>2042.12.31.01-LD001-DRIV-BKST</td>\n",
       "      <td>Braking &amp; Steering</td>\n",
       "      <td>NMP</td>\n",
       "      <td>NMP</td>\n",
       "      <td>0</td>\n",
       "    </tr>\n",
       "    <tr>\n",
       "      <th>3</th>\n",
       "      <td>2042.12.31.01-LD001-DRIV-COVR</td>\n",
       "      <td>Converter</td>\n",
       "      <td>NMP</td>\n",
       "      <td>NMP</td>\n",
       "      <td>0</td>\n",
       "    </tr>\n",
       "    <tr>\n",
       "      <th>4</th>\n",
       "      <td>2042.12.31.01-LD001-DRIV-DISA</td>\n",
       "      <td>Differentials Shafts &amp; Axles</td>\n",
       "      <td>NMP</td>\n",
       "      <td>NMP</td>\n",
       "      <td>0</td>\n",
       "    </tr>\n",
       "  </tbody>\n",
       "</table>\n",
       "</div>"
      ],
      "text/plain": [
       "             Functional Location                  Description   \\\n",
       "0            2042.12.31.01-LD001  Loader Wheeled Surface CGD01   \n",
       "1       2042.12.31.01-LD001-DRIV                         Drive   \n",
       "2  2042.12.31.01-LD001-DRIV-BKST            Braking & Steering   \n",
       "3  2042.12.31.01-LD001-DRIV-COVR                     Converter   \n",
       "4  2042.12.31.01-LD001-DRIV-DISA  Differentials Shafts & Axles   \n",
       "\n",
       "  Measuring point Annual estimate  Counter reading  \n",
       "0             NMP             NMP                0  \n",
       "1             NMP             NMP                0  \n",
       "2             NMP             NMP                0  \n",
       "3             NMP             NMP                0  \n",
       "4             NMP             NMP                0  "
      ]
     },
     "execution_count": 4,
     "metadata": {},
     "output_type": "execute_result"
    }
   ],
   "source": [
    "df.head()"
   ]
  },
  {
   "cell_type": "code",
   "execution_count": 5,
   "id": "df4d6ecd",
   "metadata": {},
   "outputs": [
    {
     "name": "stdout",
     "output_type": "stream",
     "text": [
      "<class 'pandas.core.frame.DataFrame'>\n",
      "RangeIndex: 217 entries, 0 to 216\n",
      "Data columns (total 5 columns):\n",
      " #   Column               Non-Null Count  Dtype \n",
      "---  ------               --------------  ----- \n",
      " 0   Functional Location  217 non-null    object\n",
      " 1   Description          217 non-null    object\n",
      " 2   Measuring point      217 non-null    object\n",
      " 3   Annual estimate      217 non-null    object\n",
      " 4   Counter reading      217 non-null    int64 \n",
      "dtypes: int64(1), object(4)\n",
      "memory usage: 8.6+ KB\n"
     ]
    }
   ],
   "source": [
    "df.info()"
   ]
  },
  {
   "cell_type": "code",
   "execution_count": 14,
   "id": "08da91e4",
   "metadata": {},
   "outputs": [],
   "source": [
    "df= df[df['Counter reading'] > 0]"
   ]
  },
  {
   "cell_type": "code",
   "execution_count": 15,
   "id": "9438cd8a",
   "metadata": {},
   "outputs": [],
   "source": [
    "df['Annual estimate'] = df['Annual estimate'].astype(str).astype(int)"
   ]
  },
  {
   "cell_type": "code",
   "execution_count": 16,
   "id": "b581c90c",
   "metadata": {},
   "outputs": [],
   "source": [
    "df = df.reset_index(drop=True)"
   ]
  },
  {
   "cell_type": "code",
   "execution_count": 17,
   "id": "68a82637",
   "metadata": {},
   "outputs": [
    {
     "data": {
      "text/html": [
       "<div>\n",
       "<style scoped>\n",
       "    .dataframe tbody tr th:only-of-type {\n",
       "        vertical-align: middle;\n",
       "    }\n",
       "\n",
       "    .dataframe tbody tr th {\n",
       "        vertical-align: top;\n",
       "    }\n",
       "\n",
       "    .dataframe thead th {\n",
       "        text-align: right;\n",
       "    }\n",
       "</style>\n",
       "<table border=\"1\" class=\"dataframe\">\n",
       "  <thead>\n",
       "    <tr style=\"text-align: right;\">\n",
       "      <th></th>\n",
       "      <th>Functional Location</th>\n",
       "      <th>Description</th>\n",
       "      <th>Measuring point</th>\n",
       "      <th>Annual estimate</th>\n",
       "      <th>Counter reading</th>\n",
       "    </tr>\n",
       "  </thead>\n",
       "  <tbody>\n",
       "    <tr>\n",
       "      <th>0</th>\n",
       "      <td>2042.12.31.01-LD003</td>\n",
       "      <td>Loader Wheeled Surface CGD03</td>\n",
       "      <td>50104749</td>\n",
       "      <td>6607</td>\n",
       "      <td>5424</td>\n",
       "    </tr>\n",
       "    <tr>\n",
       "      <th>1</th>\n",
       "      <td>2042.12.31.01-LD003-DRIV-BKST</td>\n",
       "      <td>Braking &amp; Steering</td>\n",
       "      <td>50105020</td>\n",
       "      <td>6607</td>\n",
       "      <td>5424</td>\n",
       "    </tr>\n",
       "    <tr>\n",
       "      <th>2</th>\n",
       "      <td>2042.12.31.01-LD003-DRIV-COVR</td>\n",
       "      <td>Converter</td>\n",
       "      <td>50105028</td>\n",
       "      <td>6607</td>\n",
       "      <td>5424</td>\n",
       "    </tr>\n",
       "    <tr>\n",
       "      <th>3</th>\n",
       "      <td>2042.12.31.01-LD003-DRIV-DISA</td>\n",
       "      <td>Differentials Shafts &amp; Axles</td>\n",
       "      <td>50105031</td>\n",
       "      <td>6607</td>\n",
       "      <td>5424</td>\n",
       "    </tr>\n",
       "    <tr>\n",
       "      <th>4</th>\n",
       "      <td>2042.12.31.01-LD003-DRIV-FDWE</td>\n",
       "      <td>Final Drives &amp; Wheel Ends</td>\n",
       "      <td>50105033</td>\n",
       "      <td>6607</td>\n",
       "      <td>5424</td>\n",
       "    </tr>\n",
       "    <tr>\n",
       "      <th>5</th>\n",
       "      <td>2042.12.31.01-LD003-DRIV-TRAN</td>\n",
       "      <td>Transmission</td>\n",
       "      <td>50105037</td>\n",
       "      <td>6607</td>\n",
       "      <td>5424</td>\n",
       "    </tr>\n",
       "    <tr>\n",
       "      <th>6</th>\n",
       "      <td>2042.12.31.01-LD003-EICO-STCH</td>\n",
       "      <td>Starting &amp; Charging</td>\n",
       "      <td>50105040</td>\n",
       "      <td>6607</td>\n",
       "      <td>5424</td>\n",
       "    </tr>\n",
       "    <tr>\n",
       "      <th>7</th>\n",
       "      <td>2042.12.31.01-LD003-ENGI</td>\n",
       "      <td>Engine</td>\n",
       "      <td>50105041</td>\n",
       "      <td>6607</td>\n",
       "      <td>5424</td>\n",
       "    </tr>\n",
       "    <tr>\n",
       "      <th>8</th>\n",
       "      <td>2042.12.31.01-LD003-ENGI-COSY</td>\n",
       "      <td>Cooling System</td>\n",
       "      <td>50105046</td>\n",
       "      <td>6607</td>\n",
       "      <td>5424</td>\n",
       "    </tr>\n",
       "    <tr>\n",
       "      <th>9</th>\n",
       "      <td>2042.12.31.01-LD003-ENGI-FUSY</td>\n",
       "      <td>Fuel System</td>\n",
       "      <td>50105051</td>\n",
       "      <td>6607</td>\n",
       "      <td>5424</td>\n",
       "    </tr>\n",
       "    <tr>\n",
       "      <th>10</th>\n",
       "      <td>2042.12.31.01-LD003-ENGI-OLSY</td>\n",
       "      <td>Oil Lube System</td>\n",
       "      <td>50105053</td>\n",
       "      <td>6607</td>\n",
       "      <td>5424</td>\n",
       "    </tr>\n",
       "    <tr>\n",
       "      <th>11</th>\n",
       "      <td>2042.12.31.01-LD003-ENGI-PNSY</td>\n",
       "      <td>Pneumatic System</td>\n",
       "      <td>50105055</td>\n",
       "      <td>6607</td>\n",
       "      <td>5424</td>\n",
       "    </tr>\n",
       "    <tr>\n",
       "      <th>12</th>\n",
       "      <td>2042.12.31.01-LD003-HYSY</td>\n",
       "      <td>Hydraulic System</td>\n",
       "      <td>50105057</td>\n",
       "      <td>6607</td>\n",
       "      <td>5424</td>\n",
       "    </tr>\n",
       "    <tr>\n",
       "      <th>13</th>\n",
       "      <td>2042.12.31.01-LD003-HYSY-CYLI</td>\n",
       "      <td>Cylinder</td>\n",
       "      <td>50105058</td>\n",
       "      <td>6607</td>\n",
       "      <td>5424</td>\n",
       "    </tr>\n",
       "    <tr>\n",
       "      <th>14</th>\n",
       "      <td>2042.12.31.01-LD003-HYSY-HYCO</td>\n",
       "      <td>Hydraulic Components</td>\n",
       "      <td>50105062</td>\n",
       "      <td>6607</td>\n",
       "      <td>5424</td>\n",
       "    </tr>\n",
       "    <tr>\n",
       "      <th>15</th>\n",
       "      <td>2042.12.31.01-LD003-IMAT</td>\n",
       "      <td>Implements &amp; Attachments</td>\n",
       "      <td>50105067</td>\n",
       "      <td>6607</td>\n",
       "      <td>5424</td>\n",
       "    </tr>\n",
       "    <tr>\n",
       "      <th>16</th>\n",
       "      <td>2042.12.31.01-LD003-IMAT-BUCK</td>\n",
       "      <td>Bucket</td>\n",
       "      <td>50105071</td>\n",
       "      <td>6607</td>\n",
       "      <td>5424</td>\n",
       "    </tr>\n",
       "    <tr>\n",
       "      <th>17</th>\n",
       "      <td>2042.12.31.01-LD003-IMAT-LDFR</td>\n",
       "      <td>Loader Frame</td>\n",
       "      <td>50105072</td>\n",
       "      <td>6607</td>\n",
       "      <td>5424</td>\n",
       "    </tr>\n",
       "    <tr>\n",
       "      <th>18</th>\n",
       "      <td>2042.12.31.01-LD003-STRC-CADE</td>\n",
       "      <td>Cabin &amp; Decking</td>\n",
       "      <td>50105075</td>\n",
       "      <td>6607</td>\n",
       "      <td>5424</td>\n",
       "    </tr>\n",
       "    <tr>\n",
       "      <th>19</th>\n",
       "      <td>2042.12.31.01-LD003-STRC-FRCH</td>\n",
       "      <td>Frame &amp; Chassis</td>\n",
       "      <td>50105076</td>\n",
       "      <td>6607</td>\n",
       "      <td>5424</td>\n",
       "    </tr>\n",
       "    <tr>\n",
       "      <th>20</th>\n",
       "      <td>2042.12.31.01-LD004</td>\n",
       "      <td>Loader Wheeled Surface CGD04</td>\n",
       "      <td>50104759</td>\n",
       "      <td>6607</td>\n",
       "      <td>4840</td>\n",
       "    </tr>\n",
       "    <tr>\n",
       "      <th>21</th>\n",
       "      <td>2042.12.31.01-LD004-DRIV</td>\n",
       "      <td>Drive</td>\n",
       "      <td>50106372</td>\n",
       "      <td>6607</td>\n",
       "      <td>4840</td>\n",
       "    </tr>\n",
       "    <tr>\n",
       "      <th>22</th>\n",
       "      <td>2042.12.31.01-LD004-DRIV-COVR</td>\n",
       "      <td>Converter</td>\n",
       "      <td>50106385</td>\n",
       "      <td>6607</td>\n",
       "      <td>4840</td>\n",
       "    </tr>\n",
       "    <tr>\n",
       "      <th>23</th>\n",
       "      <td>2042.12.31.01-LD004-DRIV-DISA</td>\n",
       "      <td>Differentials Shafts &amp; Axles</td>\n",
       "      <td>50106386</td>\n",
       "      <td>6607</td>\n",
       "      <td>4840</td>\n",
       "    </tr>\n",
       "    <tr>\n",
       "      <th>24</th>\n",
       "      <td>2042.12.31.01-LD004-DRIV-FDWE</td>\n",
       "      <td>Final Drives &amp; Wheel Ends</td>\n",
       "      <td>50106390</td>\n",
       "      <td>6607</td>\n",
       "      <td>4840</td>\n",
       "    </tr>\n",
       "  </tbody>\n",
       "</table>\n",
       "</div>"
      ],
      "text/plain": [
       "              Functional Location                  Description   \\\n",
       "0             2042.12.31.01-LD003  Loader Wheeled Surface CGD03   \n",
       "1   2042.12.31.01-LD003-DRIV-BKST            Braking & Steering   \n",
       "2   2042.12.31.01-LD003-DRIV-COVR                     Converter   \n",
       "3   2042.12.31.01-LD003-DRIV-DISA  Differentials Shafts & Axles   \n",
       "4   2042.12.31.01-LD003-DRIV-FDWE     Final Drives & Wheel Ends   \n",
       "5   2042.12.31.01-LD003-DRIV-TRAN                  Transmission   \n",
       "6   2042.12.31.01-LD003-EICO-STCH           Starting & Charging   \n",
       "7        2042.12.31.01-LD003-ENGI                        Engine   \n",
       "8   2042.12.31.01-LD003-ENGI-COSY                Cooling System   \n",
       "9   2042.12.31.01-LD003-ENGI-FUSY                   Fuel System   \n",
       "10  2042.12.31.01-LD003-ENGI-OLSY               Oil Lube System   \n",
       "11  2042.12.31.01-LD003-ENGI-PNSY              Pneumatic System   \n",
       "12       2042.12.31.01-LD003-HYSY              Hydraulic System   \n",
       "13  2042.12.31.01-LD003-HYSY-CYLI                      Cylinder   \n",
       "14  2042.12.31.01-LD003-HYSY-HYCO          Hydraulic Components   \n",
       "15       2042.12.31.01-LD003-IMAT      Implements & Attachments   \n",
       "16  2042.12.31.01-LD003-IMAT-BUCK                        Bucket   \n",
       "17  2042.12.31.01-LD003-IMAT-LDFR                  Loader Frame   \n",
       "18  2042.12.31.01-LD003-STRC-CADE               Cabin & Decking   \n",
       "19  2042.12.31.01-LD003-STRC-FRCH               Frame & Chassis   \n",
       "20            2042.12.31.01-LD004  Loader Wheeled Surface CGD04   \n",
       "21       2042.12.31.01-LD004-DRIV                         Drive   \n",
       "22  2042.12.31.01-LD004-DRIV-COVR                     Converter   \n",
       "23  2042.12.31.01-LD004-DRIV-DISA  Differentials Shafts & Axles   \n",
       "24  2042.12.31.01-LD004-DRIV-FDWE     Final Drives & Wheel Ends   \n",
       "\n",
       "   Measuring point  Annual estimate  Counter reading  \n",
       "0         50104749             6607             5424  \n",
       "1         50105020             6607             5424  \n",
       "2         50105028             6607             5424  \n",
       "3         50105031             6607             5424  \n",
       "4         50105033             6607             5424  \n",
       "5         50105037             6607             5424  \n",
       "6         50105040             6607             5424  \n",
       "7         50105041             6607             5424  \n",
       "8         50105046             6607             5424  \n",
       "9         50105051             6607             5424  \n",
       "10        50105053             6607             5424  \n",
       "11        50105055             6607             5424  \n",
       "12        50105057             6607             5424  \n",
       "13        50105058             6607             5424  \n",
       "14        50105062             6607             5424  \n",
       "15        50105067             6607             5424  \n",
       "16        50105071             6607             5424  \n",
       "17        50105072             6607             5424  \n",
       "18        50105075             6607             5424  \n",
       "19        50105076             6607             5424  \n",
       "20        50104759             6607             4840  \n",
       "21        50106372             6607             4840  \n",
       "22        50106385             6607             4840  \n",
       "23        50106386             6607             4840  \n",
       "24        50106390             6607             4840  "
      ]
     },
     "execution_count": 17,
     "metadata": {},
     "output_type": "execute_result"
    }
   ],
   "source": [
    "df.head(n=27)"
   ]
  },
  {
   "cell_type": "code",
   "execution_count": 18,
   "id": "76017826",
   "metadata": {},
   "outputs": [
    {
     "data": {
      "text/plain": [
       "(25, 5)"
      ]
     },
     "execution_count": 18,
     "metadata": {},
     "output_type": "execute_result"
    }
   ],
   "source": [
    "df.shape"
   ]
  },
  {
   "cell_type": "code",
   "execution_count": 19,
   "id": "7c304b22",
   "metadata": {},
   "outputs": [],
   "source": [
    "loader = df.iloc[[0,20]]"
   ]
  },
  {
   "cell_type": "code",
   "execution_count": 20,
   "id": "ba46df45",
   "metadata": {},
   "outputs": [
    {
     "data": {
      "text/html": [
       "<div>\n",
       "<style scoped>\n",
       "    .dataframe tbody tr th:only-of-type {\n",
       "        vertical-align: middle;\n",
       "    }\n",
       "\n",
       "    .dataframe tbody tr th {\n",
       "        vertical-align: top;\n",
       "    }\n",
       "\n",
       "    .dataframe thead th {\n",
       "        text-align: right;\n",
       "    }\n",
       "</style>\n",
       "<table border=\"1\" class=\"dataframe\">\n",
       "  <thead>\n",
       "    <tr style=\"text-align: right;\">\n",
       "      <th></th>\n",
       "      <th>Functional Location</th>\n",
       "      <th>Description</th>\n",
       "      <th>Measuring point</th>\n",
       "      <th>Annual estimate</th>\n",
       "      <th>Counter reading</th>\n",
       "    </tr>\n",
       "  </thead>\n",
       "  <tbody>\n",
       "    <tr>\n",
       "      <th>0</th>\n",
       "      <td>2042.12.31.01-LD003</td>\n",
       "      <td>Loader Wheeled Surface CGD03</td>\n",
       "      <td>50104749</td>\n",
       "      <td>6607</td>\n",
       "      <td>5424</td>\n",
       "    </tr>\n",
       "    <tr>\n",
       "      <th>20</th>\n",
       "      <td>2042.12.31.01-LD004</td>\n",
       "      <td>Loader Wheeled Surface CGD04</td>\n",
       "      <td>50104759</td>\n",
       "      <td>6607</td>\n",
       "      <td>4840</td>\n",
       "    </tr>\n",
       "  </tbody>\n",
       "</table>\n",
       "</div>"
      ],
      "text/plain": [
       "    Functional Location                  Description  Measuring point  \\\n",
       "0   2042.12.31.01-LD003  Loader Wheeled Surface CGD03        50104749   \n",
       "20  2042.12.31.01-LD004  Loader Wheeled Surface CGD04        50104759   \n",
       "\n",
       "    Annual estimate  Counter reading  \n",
       "0              6607             5424  \n",
       "20             6607             4840  "
      ]
     },
     "execution_count": 20,
     "metadata": {},
     "output_type": "execute_result"
    }
   ],
   "source": [
    "loader"
   ]
  },
  {
   "cell_type": "code",
   "execution_count": 21,
   "id": "3b5792c2",
   "metadata": {},
   "outputs": [
    {
     "data": {
      "text/html": [
       "<div>\n",
       "<style scoped>\n",
       "    .dataframe tbody tr th:only-of-type {\n",
       "        vertical-align: middle;\n",
       "    }\n",
       "\n",
       "    .dataframe tbody tr th {\n",
       "        vertical-align: top;\n",
       "    }\n",
       "\n",
       "    .dataframe thead th {\n",
       "        text-align: right;\n",
       "    }\n",
       "</style>\n",
       "<table border=\"1\" class=\"dataframe\">\n",
       "  <thead>\n",
       "    <tr style=\"text-align: right;\">\n",
       "      <th></th>\n",
       "      <th>Functional Location</th>\n",
       "      <th>Description</th>\n",
       "      <th>Measuring point</th>\n",
       "      <th>Annual estimate</th>\n",
       "      <th>Counter reading</th>\n",
       "    </tr>\n",
       "  </thead>\n",
       "  <tbody>\n",
       "    <tr>\n",
       "      <th>0</th>\n",
       "      <td>2042.12.31.01-LD003</td>\n",
       "      <td>Loader Wheeled Surface CGD03</td>\n",
       "      <td>50104749</td>\n",
       "      <td>6607</td>\n",
       "      <td>5424</td>\n",
       "    </tr>\n",
       "    <tr>\n",
       "      <th>1</th>\n",
       "      <td>2042.12.31.01-LD004</td>\n",
       "      <td>Loader Wheeled Surface CGD04</td>\n",
       "      <td>50104759</td>\n",
       "      <td>6607</td>\n",
       "      <td>4840</td>\n",
       "    </tr>\n",
       "  </tbody>\n",
       "</table>\n",
       "</div>"
      ],
      "text/plain": [
       "   Functional Location                  Description  Measuring point  \\\n",
       "0  2042.12.31.01-LD003  Loader Wheeled Surface CGD03        50104749   \n",
       "1  2042.12.31.01-LD004  Loader Wheeled Surface CGD04        50104759   \n",
       "\n",
       "   Annual estimate  Counter reading  \n",
       "0             6607             5424  \n",
       "1             6607             4840  "
      ]
     },
     "execution_count": 21,
     "metadata": {},
     "output_type": "execute_result"
    }
   ],
   "source": [
    "loader.reset_index(drop=True)"
   ]
  },
  {
   "cell_type": "code",
   "execution_count": 83,
   "id": "443e5c26",
   "metadata": {},
   "outputs": [
    {
     "data": {
      "text/plain": [
       "''"
      ]
     },
     "execution_count": 83,
     "metadata": {},
     "output_type": "execute_result"
    },
    {
     "data": {
      "image/png": "[encoded data removed]",
      "text/plain": [
       "<Figure size 800x550 with 1 Axes>"
      ]
     },
     "metadata": {},
     "output_type": "display_data"
    }
   ],
   "source": [
    "width = 0.35\n",
    "\n",
    "plt.style.use(\"seaborn\")\n",
    "fig, ax = plt.subplots()\n",
    "\n",
    "figsize=(13, 6)\n",
    "\n",
    "plt.bar(loader['Functional Location'], loader['Counter reading'], width=width, color= 'r')\n",
    "\n",
    "ax.axhline(loader['Counter reading'].mean(), color='b', linewidth=1, linestyle = 'dotted')\n",
    "\n",
    "plt.title('Hora Totales SAP periodo 2022', loc ='center')\n",
    "plt.legend(['Promedio de Horas (5307.20)'])\n",
    ";\n"
   ]
  },
  {
   "cell_type": "code",
   "execution_count": 67,
   "id": "a24ed62f",
   "metadata": {},
   "outputs": [
    {
     "data": {
      "text/plain": [
       "mean   5307.20\n",
       "Name: Counter reading, dtype: float64"
      ]
     },
     "execution_count": 67,
     "metadata": {},
     "output_type": "execute_result"
    }
   ],
   "source": [
    "df['Counter reading'].aggregate(['mean'])"
   ]
  },
  {
   "cell_type": "code",
   "execution_count": null,
   "id": "9295b690",
   "metadata": {},
   "outputs": [],
   "source": []
  },
  {
   "cell_type": "code",
   "execution_count": null,
   "id": "e4563128",
   "metadata": {},
   "outputs": [],
   "source": []
  },
  {
   "cell_type": "code",
   "execution_count": null,
   "id": "302a1d65",
   "metadata": {},
   "outputs": [],
   "source": []
  },
  {
   "cell_type": "code",
   "execution_count": null,
   "id": "618cb831",
   "metadata": {},
   "outputs": [],
   "source": []
  },
  {
   "cell_type": "code",
   "execution_count": null,
   "id": "c1edf51e",
   "metadata": {},
   "outputs": [],
   "source": []
  },
  {
   "cell_type": "code",
   "execution_count": null,
   "id": "7a768a6b",
   "metadata": {},
   "outputs": [],
   "source": []
  },
  {
   "cell_type": "code",
   "execution_count": null,
   "id": "6308c266",
   "metadata": {},
   "outputs": [],
   "source": []
  },
  {
   "cell_type": "code",
   "execution_count": 11,
   "id": "d96196f1",
   "metadata": {},
   "outputs": [
    {
     "ename": "SyntaxError",
     "evalue": "EOL while scanning string literal (91925751.py, line 7)",
     "output_type": "error",
     "traceback": [
      "\u001b[1;36m  Cell \u001b[1;32mIn[11], line 7\u001b[1;36m\u001b[0m\n\u001b[1;33m    df.query('Functional_Location == \"2042.12.31.01-LD003\"\u001b[0m\n\u001b[1;37m                                                          ^\u001b[0m\n\u001b[1;31mSyntaxError\u001b[0m\u001b[1;31m:\u001b[0m EOL while scanning string literal\n"
     ]
    }
   ],
   "source": [
    "# replacing blank spaces with '_'\n",
    "df.columns = [column.replace(\" \", \"_\") for column in df.columns]\n",
    "\n",
    "\n",
    "\n",
    "# filtering with query method\n",
    "df.query('Functional_Locataion == \"2042.12.31.01-LD003\"\n",
    "           and Functional_Location == \"2042.12.31.01-LD004\"',\n",
    "             inplace=True)"
   ]
  },
  {
   "cell_type": "code",
   "execution_count": null,
   "id": "cf219e2a",
   "metadata": {},
   "outputs": [],
   "source": [
    "df"
   ]
  },
  {
   "cell_type": "code",
   "execution_count": null,
   "id": "305abc69",
   "metadata": {},
   "outputs": [],
   "source": []
  },
  {
   "cell_type": "code",
   "execution_count": null,
   "id": "fa4f6106",
   "metadata": {},
   "outputs": [],
   "source": []
  },
  {
   "cell_type": "code",
   "execution_count": null,
   "id": "37d26e94",
   "metadata": {},
   "outputs": [],
   "source": []
  },
  {
   "cell_type": "code",
   "execution_count": null,
   "id": "702fd1ef",
   "metadata": {},
   "outputs": [],
   "source": []
  },
  {
   "cell_type": "code",
   "execution_count": null,
   "id": "26214ea8",
   "metadata": {},
   "outputs": [],
   "source": []
  },
  {
   "cell_type": "code",
   "execution_count": null,
   "id": "a0b8a0fc",
   "metadata": {},
   "outputs": [],
   "source": []
  },
  {
   "cell_type": "code",
   "execution_count": 12,
   "id": "f9bdcb02",
   "metadata": {},
   "outputs": [
    {
     "data": {
      "text/plain": [
       "<BarContainer object of 4 artists>"
      ]
     },
     "execution_count": 12,
     "metadata": {},
     "output_type": "execute_result"
    },
    {
     "data": {
      "image/png": "[encoded data removed]",
      "text/plain": [
       "<Figure size 640x480 with 1 Axes>"
      ]
     },
     "metadata": {},
     "output_type": "display_data"
    }
   ],
   "source": [
    "import numpy as np\n",
    "import matplotlib.pyplot as plt\n",
    "data = [[30, 25, 50, 20],\n",
    "[40, 23, 51, 17],\n",
    "[35, 22, 45, 19]]\n",
    "X = np.arange(4)\n",
    "fig = plt.figure()\n",
    "ax = fig.add_axes([0,0,1,1])\n",
    "ax.bar(X + 0.00, data[0], color = 'b', width = 0.25)\n",
    "ax.bar(X + 0.25, data[1], color = 'g', width = 0.25)\n",
    "ax.bar(X + 0.50, data[2], color = 'r', width = 0.25)"
   ]
  },
  {
   "cell_type": "code",
   "execution_count": 13,
   "id": "96958b9d",
   "metadata": {},
   "outputs": [
    {
     "name": "stdout",
     "output_type": "stream",
     "text": [
      "[0 1 2 3]\n"
     ]
    }
   ],
   "source": [
    "print(X)"
   ]
  },
  {
   "cell_type": "code",
   "execution_count": 15,
   "id": "0b11c7d1",
   "metadata": {},
   "outputs": [
    {
     "data": {
      "text/plain": [
       "[[30, 25, 50, 20], [40, 23, 51, 17], [35, 22, 45, 19]]"
      ]
     },
     "execution_count": 15,
     "metadata": {},
     "output_type": "execute_result"
    }
   ],
   "source": [
    "data"
   ]
  },
  {
   "cell_type": "code",
   "execution_count": null,
   "id": "b3c95c65",
   "metadata": {},
   "outputs": [],
   "source": []
  }
 ],
 "metadata": {
  "kernelspec": {
   "display_name": "Python 3 (ipykernel)",
   "language": "python",
   "name": "python3"
  },
  "language_info": {
   "codemirror_mode": {
    "name": "ipython",
    "version": 3
   },
   "file_extension": ".py",
   "mimetype": "text/x-python",
   "name": "python",
   "nbconvert_exporter": "python",
   "pygments_lexer": "ipython3",
   "version": "3.9.7"
  }
 },
 "nbformat": 4,
 "nbformat_minor": 5
}
